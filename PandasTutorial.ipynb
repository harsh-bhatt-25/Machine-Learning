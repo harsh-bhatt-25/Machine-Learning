{
 "cells": [
  {
   "cell_type": "code",
   "execution_count": 3,
   "metadata": {},
   "outputs": [
    {
     "data": {
      "text/html": [
       "<div>\n",
       "<style scoped>\n",
       "    .dataframe tbody tr th:only-of-type {\n",
       "        vertical-align: middle;\n",
       "    }\n",
       "\n",
       "    .dataframe tbody tr th {\n",
       "        vertical-align: top;\n",
       "    }\n",
       "\n",
       "    .dataframe thead th {\n",
       "        text-align: right;\n",
       "    }\n",
       "</style>\n",
       "<table border=\"1\" class=\"dataframe\">\n",
       "  <thead>\n",
       "    <tr style=\"text-align: right;\">\n",
       "      <th></th>\n",
       "      <th>Open</th>\n",
       "      <th>High</th>\n",
       "      <th>Low</th>\n",
       "      <th>Close</th>\n",
       "      <th>Adj Close</th>\n",
       "      <th>Volume</th>\n",
       "    </tr>\n",
       "    <tr>\n",
       "      <th>Date</th>\n",
       "      <th></th>\n",
       "      <th></th>\n",
       "      <th></th>\n",
       "      <th></th>\n",
       "      <th></th>\n",
       "      <th></th>\n",
       "    </tr>\n",
       "  </thead>\n",
       "  <tbody>\n",
       "    <tr>\n",
       "      <th>2019-08-23</th>\n",
       "      <td>330.000000</td>\n",
       "      <td>354.299988</td>\n",
       "      <td>326.549988</td>\n",
       "      <td>351.149994</td>\n",
       "      <td>351.149994</td>\n",
       "      <td>8092013.0</td>\n",
       "    </tr>\n",
       "    <tr>\n",
       "      <th>2019-08-26</th>\n",
       "      <td>352.000000</td>\n",
       "      <td>369.799988</td>\n",
       "      <td>346.200012</td>\n",
       "      <td>364.899994</td>\n",
       "      <td>364.899994</td>\n",
       "      <td>7275260.0</td>\n",
       "    </tr>\n",
       "    <tr>\n",
       "      <th>2019-08-27</th>\n",
       "      <td>361.000000</td>\n",
       "      <td>367.600006</td>\n",
       "      <td>361.000000</td>\n",
       "      <td>363.750000</td>\n",
       "      <td>363.750000</td>\n",
       "      <td>4847123.0</td>\n",
       "    </tr>\n",
       "    <tr>\n",
       "      <th>2019-08-28</th>\n",
       "      <td>362.000000</td>\n",
       "      <td>369.950012</td>\n",
       "      <td>360.799988</td>\n",
       "      <td>364.200012</td>\n",
       "      <td>364.200012</td>\n",
       "      <td>4279391.0</td>\n",
       "    </tr>\n",
       "    <tr>\n",
       "      <th>2019-08-29</th>\n",
       "      <td>364.200012</td>\n",
       "      <td>367.000000</td>\n",
       "      <td>358.200012</td>\n",
       "      <td>362.100006</td>\n",
       "      <td>362.100006</td>\n",
       "      <td>3030633.0</td>\n",
       "    </tr>\n",
       "  </tbody>\n",
       "</table>\n",
       "</div>"
      ],
      "text/plain": [
       "                  Open        High         Low       Close   Adj Close  \\\n",
       "Date                                                                     \n",
       "2019-08-23  330.000000  354.299988  326.549988  351.149994  351.149994   \n",
       "2019-08-26  352.000000  369.799988  346.200012  364.899994  364.899994   \n",
       "2019-08-27  361.000000  367.600006  361.000000  363.750000  363.750000   \n",
       "2019-08-28  362.000000  369.950012  360.799988  364.200012  364.200012   \n",
       "2019-08-29  364.200012  367.000000  358.200012  362.100006  362.100006   \n",
       "\n",
       "               Volume  \n",
       "Date                   \n",
       "2019-08-23  8092013.0  \n",
       "2019-08-26  7275260.0  \n",
       "2019-08-27  4847123.0  \n",
       "2019-08-28  4279391.0  \n",
       "2019-08-29  3030633.0  "
      ]
     },
     "execution_count": 3,
     "metadata": {},
     "output_type": "execute_result"
    }
   ],
   "source": [
    "import pandas as pd\n",
    "df = pd.read_csv(\"zeel.csv\", parse_dates = [\"Date\"], index_col = \"Date\")\n",
    "df.head()"
   ]
  },
  {
   "cell_type": "code",
   "execution_count": 4,
   "metadata": {},
   "outputs": [
    {
     "data": {
      "text/plain": [
       "<matplotlib.axes._subplots.AxesSubplot at 0x283f2c354c8>"
      ]
     },
     "execution_count": 4,
     "metadata": {},
     "output_type": "execute_result"
    },
    {
     "data": {
      "image/png": "[encoded data removed]",
      "text/plain": [
       "<Figure size 432x288 with 1 Axes>"
      ]
     },
     "metadata": {
      "needs_background": "light"
     },
     "output_type": "display_data"
    }
   ],
   "source": [
    "# df.Close.resample('D').mean().plot(kind=\"bar\")\n",
    "df.High.resample(\"M\").mean().plot(kind=\"bar\")"
   ]
  },
  {
   "cell_type": "code",
   "execution_count": 5,
   "metadata": {},
   "outputs": [
    {
     "data": {
      "text/plain": [
       "DatetimeIndex(['2017-06-01', '2017-06-02', '2017-06-05', '2017-06-06',\n",
       "               '2017-06-07', '2017-06-08', '2017-06-09', '2017-06-12',\n",
       "               '2017-06-13', '2017-06-14', '2017-06-15', '2017-06-16',\n",
       "               '2017-06-19', '2017-06-20', '2017-06-21', '2017-06-22',\n",
       "               '2017-06-23', '2017-06-26', '2017-06-27', '2017-06-28',\n",
       "               '2017-06-29', '2017-06-30'],\n",
       "              dtype='datetime64[ns]', freq='B')"
      ]
     },
     "execution_count": 5,
     "metadata": {},
     "output_type": "execute_result"
    }
   ],
   "source": [
    "rng = pd.date_range(start=\"6/1/2017\", end=\"7/1/2017\", freq=\"B\")\n",
    "rng"
   ]
  },
  {
   "cell_type": "code",
   "execution_count": 9,
   "metadata": {},
   "outputs": [
    {
     "data": {
      "text/plain": [
       "2017-06-01    45\n",
       "2017-06-02    18\n",
       "2017-06-05    99\n",
       "2017-06-06    45\n",
       "2017-06-07    95\n",
       "Freq: B, dtype: int32"
      ]
     },
     "execution_count": 9,
     "metadata": {},
     "output_type": "execute_result"
    }
   ],
   "source": [
    "#if we want a dummy data and add it to our file for testing purposes, we can use pandas series with numpy random\n",
    "import numpy as np\n",
    "ts = pd.Series(np.random.randint(1,100,len(rng)), index = rng)\n",
    "ts.head(5)"
   ]
  },
  {
   "cell_type": "code",
   "execution_count": 13,
   "metadata": {},
   "outputs": [
    {
     "data": {
      "text/html": [
       "<div>\n",
       "<style scoped>\n",
       "    .dataframe tbody tr th:only-of-type {\n",
       "        vertical-align: middle;\n",
       "    }\n",
       "\n",
       "    .dataframe tbody tr th {\n",
       "        vertical-align: top;\n",
       "    }\n",
       "\n",
       "    .dataframe thead th {\n",
       "        text-align: right;\n",
       "    }\n",
       "</style>\n",
       "<table border=\"1\" class=\"dataframe\">\n",
       "  <thead>\n",
       "    <tr style=\"text-align: right;\">\n",
       "      <th></th>\n",
       "      <th>Open</th>\n",
       "      <th>High</th>\n",
       "      <th>Low</th>\n",
       "      <th>Close</th>\n",
       "      <th>Adj Close</th>\n",
       "      <th>Volume</th>\n",
       "    </tr>\n",
       "    <tr>\n",
       "      <th>Date</th>\n",
       "      <th></th>\n",
       "      <th></th>\n",
       "      <th></th>\n",
       "      <th></th>\n",
       "      <th></th>\n",
       "      <th></th>\n",
       "    </tr>\n",
       "  </thead>\n",
       "  <tbody>\n",
       "    <tr>\n",
       "      <th>2019-08-26</th>\n",
       "      <td>352.000000</td>\n",
       "      <td>369.799988</td>\n",
       "      <td>346.200012</td>\n",
       "      <td>364.899994</td>\n",
       "      <td>364.899994</td>\n",
       "      <td>7275260.0</td>\n",
       "    </tr>\n",
       "    <tr>\n",
       "      <th>2019-08-27</th>\n",
       "      <td>361.000000</td>\n",
       "      <td>367.600006</td>\n",
       "      <td>361.000000</td>\n",
       "      <td>363.750000</td>\n",
       "      <td>363.750000</td>\n",
       "      <td>4847123.0</td>\n",
       "    </tr>\n",
       "    <tr>\n",
       "      <th>2019-08-28</th>\n",
       "      <td>362.000000</td>\n",
       "      <td>369.950012</td>\n",
       "      <td>360.799988</td>\n",
       "      <td>364.200012</td>\n",
       "      <td>364.200012</td>\n",
       "      <td>4279391.0</td>\n",
       "    </tr>\n",
       "    <tr>\n",
       "      <th>2019-08-29</th>\n",
       "      <td>364.200012</td>\n",
       "      <td>367.000000</td>\n",
       "      <td>358.200012</td>\n",
       "      <td>362.100006</td>\n",
       "      <td>362.100006</td>\n",
       "      <td>3030633.0</td>\n",
       "    </tr>\n",
       "    <tr>\n",
       "      <th>2019-08-30</th>\n",
       "      <td>363.600006</td>\n",
       "      <td>376.000000</td>\n",
       "      <td>362.250000</td>\n",
       "      <td>373.100006</td>\n",
       "      <td>373.100006</td>\n",
       "      <td>4850836.0</td>\n",
       "    </tr>\n",
       "  </tbody>\n",
       "</table>\n",
       "</div>"
      ],
      "text/plain": [
       "                  Open        High         Low       Close   Adj Close  \\\n",
       "Date                                                                     \n",
       "2019-08-26  352.000000  369.799988  346.200012  364.899994  364.899994   \n",
       "2019-08-27  361.000000  367.600006  361.000000  363.750000  363.750000   \n",
       "2019-08-28  362.000000  369.950012  360.799988  364.200012  364.200012   \n",
       "2019-08-29  364.200012  367.000000  358.200012  362.100006  362.100006   \n",
       "2019-08-30  363.600006  376.000000  362.250000  373.100006  373.100006   \n",
       "\n",
       "               Volume  \n",
       "Date                   \n",
       "2019-08-26  7275260.0  \n",
       "2019-08-27  4847123.0  \n",
       "2019-08-28  4279391.0  \n",
       "2019-08-29  3030633.0  \n",
       "2019-08-30  4850836.0  "
      ]
     },
     "execution_count": 13,
     "metadata": {},
     "output_type": "execute_result"
    }
   ],
   "source": [
    "df[\"2019-08-24\":\"2019-08-30\"]"
   ]
  },
  {
   "cell_type": "code",
   "execution_count": 11,
   "metadata": {},
   "outputs": [
    {
     "data": {
      "text/plain": [
       "2020-01-01 00:00:00    0\n",
       "2020-01-01 00:00:30    1\n",
       "2020-01-01 00:01:00    2\n",
       "2020-01-01 00:01:30    3\n",
       "2020-01-01 00:02:00    4\n",
       "2020-01-01 00:02:30    5\n",
       "2020-01-01 00:03:00    6\n",
       "2020-01-01 00:03:30    7\n",
       "2020-01-01 00:04:00    8\n",
       "Freq: 30S, dtype: int64"
      ]
     },
     "execution_count": 11,
     "metadata": {},
     "output_type": "execute_result"
    }
   ],
   "source": [
    "index = pd.date_range(\"2020-01-01\", periods=9, freq=\"30S\")\n",
    "series = pd.Series(range(9), index = index)\n",
    "series"
   ]
  },
  {
   "cell_type": "code",
   "execution_count": 12,
   "metadata": {},
   "outputs": [
    {
     "data": {
      "text/plain": [
       "2020-01-01 00:00:00    0.5\n",
       "2020-01-01 00:01:00    2.5\n",
       "2020-01-01 00:02:00    4.5\n",
       "2020-01-01 00:03:00    6.5\n",
       "2020-01-01 00:04:00    8.0\n",
       "Freq: T, dtype: float64"
      ]
     },
     "execution_count": 12,
     "metadata": {},
     "output_type": "execute_result"
    }
   ],
   "source": [
    "series.resample(\"T\").mean()"
   ]
  }
 ],
 "metadata": {
  "kernelspec": {
   "display_name": "Python 3",
   "language": "python",
   "name": "python3"
  },
  "language_info": {
   "codemirror_mode": {
    "name": "ipython",
    "version": 3
   },
   "file_extension": ".py",
   "mimetype": "text/x-python",
   "name": "python",
   "nbconvert_exporter": "python",
   "pygments_lexer": "ipython3",
   "version": "3.7.6"
  }
 },
 "nbformat": 4,
 "nbformat_minor": 4
}
